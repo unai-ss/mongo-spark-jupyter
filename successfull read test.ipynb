{
 "cells": [
  {
   "cell_type": "code",
   "execution_count": 2,
   "id": "16424108-fb0a-4dbe-b157-58c03eff7dd0",
   "metadata": {},
   "outputs": [
    {
     "name": "stdout",
     "output_type": "stream",
     "text": [
      "Requirement already satisfied: pyspark in /usr/local/spark-3.2.1-bin-hadoop3.2/python (3.2.1)\n",
      "Requirement already satisfied: py4j==0.10.9.3 in /opt/conda/lib/python3.9/site-packages (from pyspark) (0.10.9.3)\n"
     ]
    }
   ],
   "source": [
    "!pip install pyspark\n",
    "import pyspark\n",
    "from pyspark import SparkContext, SparkConf\n",
    "from pyspark.sql import SparkSession, SQLContext, functions as F\n",
    "from pyspark.sql.functions import *"
   ]
  },
  {
   "cell_type": "markdown",
   "id": "29d4f39f",
   "metadata": {},
   "source": [
    "[https://hangmortimer.medium.com/65-how-to-connect-pyspark-to-mongodb-eliminate-the-bug-of-not-finding-source-mongo-c59052832a32]"
   ]
  },
  {
   "cell_type": "code",
   "execution_count": 3,
   "id": "996a0d0c-6071-496b-9869-94883c9b7192",
   "metadata": {},
   "outputs": [],
   "source": [
    "# create a spark session\n",
    "spark = SparkSession \\\n",
    ".builder \\\n",
    ".master(\"local\") \\\n",
    ".appName(\"ABC\") \\\n",
    ".config(\"spark.driver.memory\", \"15g\") \\\n",
    ".config(\"spark.mongodb.read.connection.uri\", \"mongodb://host.docker.internal:27017/test\") \\\n",
    ".config(\"spark.mongodb.write.connection.uri\", \"mongodb://host.docker.internal:27017/test\") \\\n",
    ".config('spark.jars.packages', 'org.mongodb.spark:mongo-spark-connector:10.0.2') \\\n",
    ".getOrCreate()"
   ]
  },
  {
   "cell_type": "code",
   "execution_count": 4,
   "id": "29faaf41-392f-4e43-bbf8-04f41efc01c7",
   "metadata": {},
   "outputs": [],
   "source": [
    "# read data from mongodb collection \"questions\" into a dataframe \"df\"\n",
    "df = spark.read \\\n",
    ".format(\"mongodb\") \\\n",
    ".option(\"uri\", \"mongodb://host.docker.internal:27017/test\") \\\n",
    ".option(\"database\", \"test\") \\\n",
    ".option(\"collection\", \"fruit\") \\\n",
    ".load()"
   ]
  },
  {
   "cell_type": "code",
   "execution_count": 5,
   "id": "643786c8-b355-4cdc-834a-c9c02cc8904d",
   "metadata": {},
   "outputs": [
    {
     "name": "stdout",
     "output_type": "stream",
     "text": [
      "root\n",
      " |-- _id: integer (nullable = true)\n",
      " |-- type: string (nullable = true)\n",
      " |-- qty: integer (nullable = true)\n",
      "\n"
     ]
    }
   ],
   "source": [
    "df.printSchema()"
   ]
  },
  {
   "cell_type": "code",
   "execution_count": null,
   "id": "4b9530fc-523c-452e-b531-a77f6956578a",
   "metadata": {},
   "outputs": [],
   "source": []
  }
 ],
 "metadata": {
  "kernelspec": {
   "display_name": "Python 3 (ipykernel)",
   "language": "python",
   "name": "python3"
  },
  "language_info": {
   "codemirror_mode": {
    "name": "ipython",
    "version": 3
   },
   "file_extension": ".py",
   "mimetype": "text/x-python",
   "name": "python",
   "nbconvert_exporter": "python",
   "pygments_lexer": "ipython3",
   "version": "3.9.10"
  }
 },
 "nbformat": 4,
 "nbformat_minor": 5
}
